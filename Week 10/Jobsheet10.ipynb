{
  "nbformat": 4,
  "nbformat_minor": 0,
  "metadata": {
    "colab": {
      "provenance": [],
      "gpuType": "T4",
      "authorship_tag": "ABX9TyOnAo0c0NOVyUKi9xyBVMQ8",
      "include_colab_link": true
    },
    "kernelspec": {
      "name": "python3",
      "display_name": "Python 3"
    },
    "language_info": {
      "name": "python"
    },
    "accelerator": "GPU"
  },
  "cells": [
    {
      "cell_type": "markdown",
      "metadata": {
        "id": "view-in-github",
        "colab_type": "text"
      },
      "source": [
        "<a href=\"https://colab.research.google.com/github/KhafillahAkbar/MachLearn_Ganjil_2023/blob/main/Week%2010/Jobsheet10.ipynb\" target=\"_parent\"><img src=\"https://colab.research.google.com/assets/colab-badge.svg\" alt=\"Open In Colab\"/></a>"
      ]
    },
    {
      "cell_type": "markdown",
      "source": [
        "## Lab Work 1"
      ],
      "metadata": {
        "id": "_JdmvTG9GPZ4"
      }
    },
    {
      "cell_type": "markdown",
      "source": [
        "### Setup"
      ],
      "metadata": {
        "id": "n_01VXe1GSJ6"
      }
    },
    {
      "cell_type": "code",
      "source": [
        "import numpy as np\n",
        "import tensorflow_datasets as tfds\n",
        "import tensorflow as tf\n",
        "\n",
        "tfds.disable_progress_bar()"
      ],
      "metadata": {
        "id": "UXu_720XGTpt"
      },
      "execution_count": 1,
      "outputs": []
    },
    {
      "cell_type": "code",
      "source": [
        "import matplotlib.pyplot as plt\n",
        "\n",
        "def plot_graphs(history, metric):\n",
        "  plt.plot(history.history[metric])\n",
        "  plt.plot(history.history['val_'+metric], '')\n",
        "  plt.xlabel(\"Epochs\")\n",
        "  plt.ylabel(metric)\n",
        "  plt.legend([metric, 'val_'+metric])"
      ],
      "metadata": {
        "id": "ueUevJkMGPI-"
      },
      "execution_count": 2,
      "outputs": []
    },
    {
      "cell_type": "markdown",
      "source": [
        "### Setup Input pipeline"
      ],
      "metadata": {
        "id": "mgqtjiG0Gi0x"
      }
    },
    {
      "cell_type": "code",
      "execution_count": 3,
      "metadata": {
        "id": "CuVUeouJFsZB",
        "colab": {
          "base_uri": "https://localhost:8080/"
        },
        "outputId": "aedac956-d113-4c4f-c299-c26cec261702"
      },
      "outputs": [
        {
          "output_type": "stream",
          "name": "stdout",
          "text": [
            "Downloading and preparing dataset 80.23 MiB (download: 80.23 MiB, generated: Unknown size, total: 80.23 MiB) to /root/tensorflow_datasets/imdb_reviews/plain_text/1.0.0...\n",
            "Dataset imdb_reviews downloaded and prepared to /root/tensorflow_datasets/imdb_reviews/plain_text/1.0.0. Subsequent calls will reuse this data.\n"
          ]
        },
        {
          "output_type": "execute_result",
          "data": {
            "text/plain": [
              "(TensorSpec(shape=(), dtype=tf.string, name=None),\n",
              " TensorSpec(shape=(), dtype=tf.int64, name=None))"
            ]
          },
          "metadata": {},
          "execution_count": 3
        }
      ],
      "source": [
        "dataset, info = tfds.load('imdb_reviews', with_info=True,\n",
        "                          as_supervised=True)\n",
        "train_dataset, test_dataset = dataset['train'], dataset['test']\n",
        "\n",
        "train_dataset.element_spec"
      ]
    },
    {
      "cell_type": "code",
      "source": [
        "for example, label in train_dataset.take(1):\n",
        "  print('text: ', example.numpy())\n",
        "  print('label: ', label.numpy())"
      ],
      "metadata": {
        "colab": {
          "base_uri": "https://localhost:8080/"
        },
        "id": "7v8HJD2OHAP0",
        "outputId": "a6b6c1d4-5f6c-4122-e50f-56c47cd581f6"
      },
      "execution_count": 4,
      "outputs": [
        {
          "output_type": "stream",
          "name": "stdout",
          "text": [
            "text:  b\"This was an absolutely terrible movie. Don't be lured in by Christopher Walken or Michael Ironside. Both are great actors, but this must simply be their worst role in history. Even their great acting could not redeem this movie's ridiculous storyline. This movie is an early nineties US propaganda piece. The most pathetic scenes were those when the Columbian rebels were making their cases for revolutions. Maria Conchita Alonso appeared phony, and her pseudo-love affair with Walken was nothing but a pathetic emotional plug in a movie that was devoid of any real meaning. I am disappointed that there are movies like this, ruining actor's like Christopher Walken's good name. I could barely sit through it.\"\n",
            "label:  0\n"
          ]
        }
      ]
    },
    {
      "cell_type": "code",
      "source": [
        "BUFFER_SIZE = 10000\n",
        "BATCH_SIZE = 64\n",
        "\n",
        "train_dataset = train_dataset.shuffle(BUFFER_SIZE).batch(BATCH_SIZE).prefetch(tf.data.AUTOTUNE)\n",
        "test_dataset = test_dataset.batch(BATCH_SIZE).prefetch(tf.data.AUTOTUNE)\n",
        "\n",
        "for example, label in train_dataset.take(1):\n",
        "  print('texts: ', example.numpy()[:3])\n",
        "  print()\n",
        "  print('labels: ', label.numpy()[:3])"
      ],
      "metadata": {
        "colab": {
          "base_uri": "https://localhost:8080/"
        },
        "id": "0uI2DbOBHD-C",
        "outputId": "0fa4f245-4482-4471-8081-99e96d56c6a0"
      },
      "execution_count": 5,
      "outputs": [
        {
          "output_type": "stream",
          "name": "stdout",
          "text": [
            "texts:  [b\"This typical Mamet film delivers a quiet, evenly paced insight into what makes a confidence man (Joe Mantegna) good. Explored as a psychological study by a noted psychologist (Lindsay Crouse), it slowly pulls her into his world with the usual nasty consequences. The cast includes a number of the players found is several of Mamet's films (Steven Goldstein, Jack Wallace, Ricky Jay, Andy Potok, Allen Soule, William H. Macy), and they do their usual good job. I loved Lindsay Crouse in this film, and have often wondered why she didn't become a more noted player than she has become. Perhaps I'm not looking in the right places!<br /><br />The movie proceeds at a slow pace, with flat dialog, yet it maintains a level of tension throughout which logically leads to the bang-up ending. You'd expect a real let down at the ending, but I found it uplifting and satisfying. I love this movie!\"\n",
            " b'Antonioni, by making this film, had assumed the role of Papa Smurf to all the little long-haired, American, radical student-Smurfs. He had taken them under the guiding protection of his European communist wings, showing appreciation and support for their confused American ways. (These Smurfs are red and wear blue, not the other way around.) The radical Smurfs were happy to get the guidance of a wise old man with gray hair who regularly preys to the God of all long-haired Smurfs, Lenin the Communist - another wise old man whose beard made the Smurfs take him even more seriously, for it symbolized something wise, though they did not quite know why they regarded the beard to have this kind of deep effect on them. Castro, another wise bearded man, has often profited from this confusion and exuded magical powers with his beard over his naive overseas admirers. (Not to mention Che Guevara: that beard has a certain je-ne-sais-pas-quoi about it, makes one want to immediately embrace Marx and his lovely, pacifistic teachings\\xc2\\x85) The film starts with a muddled meeting of radically stupid radical students, who engage in dialogues that truly redefine the word \"confused\". As confused as a blind-folded dog falling of a high-story building into a bottomless pit. Suddenly, the movie\\'s \"hero\" (well, Antonioni\\'s hero) rises up and says something to his pathetic left-wing peers and then leaves, hoping that this display of \"mega-coolness\" will improve his James Dean image and vastly increase his chances of getting laid with the best \"chicks\" in the next mass hippie orgy. Eventually he gets into trouble with cops (i.e. pigs) at a rally, and spends the movie under the blue American capitalist skies, looking for freedom\\xc2\\x85 Or something like that.<br /><br />Antonioni\\'s predictable assault on capitalism is not only intellectually hollow, but has (or had) nothing new to offer; it\\'s just the same old trigger-happy one-dimensional cops, businessmen discussing business deals (and what\\'s wrong with that, isn\\'t that how Antonioni\\'s movies get made?), and endless shots of TV commercials and billboards advertising the oh-so morally decadent products for the abhorrent, selfish, and greedy right-wing rabble-population who thinks of no one but themselves, their families, their work, and their children.<br /><br />Papa Smurf Antonioni, just like his long-haired Smurfs and Smurfettes of the late 60s, failed to notice the most obvious and vital aspect about their silly movement: they were allowed to have their laughable meetings and express their anti-establishment opinions freely within that very establishment, whereas the students in those countries whose left-wing systems they admired, did not (and still do not). By far the greatest irony about the hippies - and Antonioni, naturally, failed to realize this as well (his judgment being clouded by cocaine-snorting and an excessive intake of LSD) - is that hippies were (are) the garbage-residue of capitalism. This is an incredible irony. Only in a successfully-functioning capitalist system can you find that species called \"hippie\"; a spoiled, ungrateful, and selfish bunch of middle and upper-middle class losers.<br /><br />The film itself seems to go on forever. Antonioni takes his sweet time with getting on with it, while including overlong scenes of pointlessness, with a high dullness factor. His attempts at symbolism are annoying and trite. His statements are highly dubious, at best. This film is Antonioni\\'s way of saying that violent revolution is the solution. And this is what we get from an old, saturated, filthy-rich, fat film-maker who lives in villas and dines in the best French and Italian restaurants.<br /><br />I don\\'t remember seeing any major Western movie about the Tiananmen massacre of thousands of students in China. But when one Western student gets shot for waving Che Guevara\\'s face into all our faces, we get ten major films about it at once. I suppose this means that a Chinese life is worth a thousand times less than a Western one \\xc2\\x96 at least to the left-wing hypocrites who infest movies.<br /><br />If you\\'re a Marxist neo-hippy and disliked this awful review, please klick \"NO\" below.'\n",
            " b\"I guess there are some out there that remember Nicole Eggert from her little girl days on such TV shows as T.J. Hooker, Charles in Charge, and Who's the Boss? You perverts, you! Maybe you remember her from Baywatch when she grew up and got breast implants. No matter, you will certainly forget her in this supposed comedy about man-eating aliens.<br /><br />There are so many things that do not make sense and are never explained. How did she recognize the alien? Why was the alien hot for paprika and cinnamon? Why didn't the alien eat her? You get the picture.<br /><br />Before the alien eats her boyfriend and assumes his identity, you get to see her in the body of Alex Meneses. This Mexican/Ukranian beauty is the only reason to watch this trash. Stay for the shower scene and the boyfriend, and go on about your business.\"]\n",
            "\n",
            "labels:  [1 0 0]\n"
          ]
        }
      ]
    },
    {
      "cell_type": "markdown",
      "source": [
        "### Create a text Encoder"
      ],
      "metadata": {
        "id": "CPicnQ5zHLzU"
      }
    },
    {
      "cell_type": "code",
      "source": [
        "VOCAB_SIZE = 1000\n",
        "encoder = tf.keras.layers.TextVectorization(\n",
        "    max_tokens=VOCAB_SIZE)\n",
        "encoder.adapt(train_dataset.map(lambda text, label: text))"
      ],
      "metadata": {
        "id": "7M_DswMCHKqZ"
      },
      "execution_count": 6,
      "outputs": []
    },
    {
      "cell_type": "code",
      "source": [
        "vocab=np.array(encoder.get_vocabulary())\n",
        "vocab[:20]"
      ],
      "metadata": {
        "colab": {
          "base_uri": "https://localhost:8080/"
        },
        "id": "m9IP7A38HP_L",
        "outputId": "2a6d4726-4545-4921-8c52-a254bbd5e46a"
      },
      "execution_count": 7,
      "outputs": [
        {
          "output_type": "execute_result",
          "data": {
            "text/plain": [
              "array(['', '[UNK]', 'the', 'and', 'a', 'of', 'to', 'is', 'in', 'it', 'i',\n",
              "       'this', 'that', 'br', 'was', 'as', 'for', 'with', 'movie', 'but'],\n",
              "      dtype='<U14')"
            ]
          },
          "metadata": {},
          "execution_count": 7
        }
      ]
    },
    {
      "cell_type": "code",
      "source": [
        "encoded_example=encoder(example)[:3].numpy()\n",
        "encoded_example"
      ],
      "metadata": {
        "colab": {
          "base_uri": "https://localhost:8080/"
        },
        "id": "rd0A_pejHUpC",
        "outputId": "d031a70b-bb96-48c4-d0b9-2735746a8270"
      },
      "execution_count": 8,
      "outputs": [
        {
          "output_type": "execute_result",
          "data": {
            "text/plain": [
              "array([[ 11, 764,   1, ...,   0,   0,   0],\n",
              "       [  1,  33, 245, ...,   0,   0,   0],\n",
              "       [ 10, 479,  48, ...,   0,   0,   0]])"
            ]
          },
          "metadata": {},
          "execution_count": 8
        }
      ]
    },
    {
      "cell_type": "code",
      "source": [
        "for n in range(3):\n",
        "  print(\"Original: \", example[n].numpy())\n",
        "  print(\"Round-trip: \", \" \".join(vocab[encoded_example[n]]))\n",
        "  print()"
      ],
      "metadata": {
        "colab": {
          "base_uri": "https://localhost:8080/"
        },
        "id": "AYmxg9dzHZln",
        "outputId": "e3924895-cafc-4dab-f120-aae020868d87"
      },
      "execution_count": 9,
      "outputs": [
        {
          "output_type": "stream",
          "name": "stdout",
          "text": [
            "Original:  b\"This typical Mamet film delivers a quiet, evenly paced insight into what makes a confidence man (Joe Mantegna) good. Explored as a psychological study by a noted psychologist (Lindsay Crouse), it slowly pulls her into his world with the usual nasty consequences. The cast includes a number of the players found is several of Mamet's films (Steven Goldstein, Jack Wallace, Ricky Jay, Andy Potok, Allen Soule, William H. Macy), and they do their usual good job. I loved Lindsay Crouse in this film, and have often wondered why she didn't become a more noted player than she has become. Perhaps I'm not looking in the right places!<br /><br />The movie proceeds at a slow pace, with flat dialog, yet it maintains a level of tension throughout which logically leads to the bang-up ending. You'd expect a real let down at the ending, but I found it uplifting and satisfying. I love this movie!\"\n",
            "Round-trip:  this typical [UNK] film [UNK] a [UNK] [UNK] [UNK] [UNK] into what makes a [UNK] man joe [UNK] good [UNK] as a [UNK] [UNK] by a [UNK] [UNK] [UNK] [UNK] it [UNK] [UNK] her into his world with the usual [UNK] [UNK] the cast [UNK] a number of the [UNK] found is several of [UNK] films [UNK] [UNK] jack [UNK] [UNK] [UNK] [UNK] [UNK] [UNK] [UNK] [UNK] [UNK] [UNK] and they do their usual good job i loved [UNK] [UNK] in this film and have often [UNK] why she didnt become a more [UNK] [UNK] than she has become perhaps im not looking in the right [UNK] br the movie [UNK] at a slow [UNK] with [UNK] dialog yet it [UNK] a level of [UNK] throughout which [UNK] leads to the [UNK] ending [UNK] expect a real let down at the ending but i found it [UNK] and [UNK] i love this movie                                                                                                                                                                                                                                                                                                                                                                                                                                                                                                                                                                                                                      \n",
            "\n",
            "Original:  b'Antonioni, by making this film, had assumed the role of Papa Smurf to all the little long-haired, American, radical student-Smurfs. He had taken them under the guiding protection of his European communist wings, showing appreciation and support for their confused American ways. (These Smurfs are red and wear blue, not the other way around.) The radical Smurfs were happy to get the guidance of a wise old man with gray hair who regularly preys to the God of all long-haired Smurfs, Lenin the Communist - another wise old man whose beard made the Smurfs take him even more seriously, for it symbolized something wise, though they did not quite know why they regarded the beard to have this kind of deep effect on them. Castro, another wise bearded man, has often profited from this confusion and exuded magical powers with his beard over his naive overseas admirers. (Not to mention Che Guevara: that beard has a certain je-ne-sais-pas-quoi about it, makes one want to immediately embrace Marx and his lovely, pacifistic teachings\\xc2\\x85) The film starts with a muddled meeting of radically stupid radical students, who engage in dialogues that truly redefine the word \"confused\". As confused as a blind-folded dog falling of a high-story building into a bottomless pit. Suddenly, the movie\\'s \"hero\" (well, Antonioni\\'s hero) rises up and says something to his pathetic left-wing peers and then leaves, hoping that this display of \"mega-coolness\" will improve his James Dean image and vastly increase his chances of getting laid with the best \"chicks\" in the next mass hippie orgy. Eventually he gets into trouble with cops (i.e. pigs) at a rally, and spends the movie under the blue American capitalist skies, looking for freedom\\xc2\\x85 Or something like that.<br /><br />Antonioni\\'s predictable assault on capitalism is not only intellectually hollow, but has (or had) nothing new to offer; it\\'s just the same old trigger-happy one-dimensional cops, businessmen discussing business deals (and what\\'s wrong with that, isn\\'t that how Antonioni\\'s movies get made?), and endless shots of TV commercials and billboards advertising the oh-so morally decadent products for the abhorrent, selfish, and greedy right-wing rabble-population who thinks of no one but themselves, their families, their work, and their children.<br /><br />Papa Smurf Antonioni, just like his long-haired Smurfs and Smurfettes of the late 60s, failed to notice the most obvious and vital aspect about their silly movement: they were allowed to have their laughable meetings and express their anti-establishment opinions freely within that very establishment, whereas the students in those countries whose left-wing systems they admired, did not (and still do not). By far the greatest irony about the hippies - and Antonioni, naturally, failed to realize this as well (his judgment being clouded by cocaine-snorting and an excessive intake of LSD) - is that hippies were (are) the garbage-residue of capitalism. This is an incredible irony. Only in a successfully-functioning capitalist system can you find that species called \"hippie\"; a spoiled, ungrateful, and selfish bunch of middle and upper-middle class losers.<br /><br />The film itself seems to go on forever. Antonioni takes his sweet time with getting on with it, while including overlong scenes of pointlessness, with a high dullness factor. His attempts at symbolism are annoying and trite. His statements are highly dubious, at best. This film is Antonioni\\'s way of saying that violent revolution is the solution. And this is what we get from an old, saturated, filthy-rich, fat film-maker who lives in villas and dines in the best French and Italian restaurants.<br /><br />I don\\'t remember seeing any major Western movie about the Tiananmen massacre of thousands of students in China. But when one Western student gets shot for waving Che Guevara\\'s face into all our faces, we get ten major films about it at once. I suppose this means that a Chinese life is worth a thousand times less than a Western one \\xc2\\x96 at least to the left-wing hypocrites who infest movies.<br /><br />If you\\'re a Marxist neo-hippy and disliked this awful review, please klick \"NO\" below.'\n",
            "Round-trip:  [UNK] by making this film had [UNK] the role of [UNK] [UNK] to all the little [UNK] american [UNK] [UNK] he had taken them under the [UNK] [UNK] of his [UNK] [UNK] [UNK] showing [UNK] and [UNK] for their [UNK] american ways these [UNK] are red and [UNK] [UNK] not the other way around the [UNK] [UNK] were happy to get the [UNK] of a [UNK] old man with [UNK] [UNK] who [UNK] [UNK] to the god of all [UNK] [UNK] [UNK] the [UNK] another [UNK] old man whose [UNK] made the [UNK] take him even more seriously for it [UNK] something [UNK] though they did not quite know why they [UNK] the [UNK] to have this kind of deep effect on them [UNK] another [UNK] [UNK] man has often [UNK] from this [UNK] and [UNK] [UNK] [UNK] with his [UNK] over his [UNK] [UNK] [UNK] not to mention [UNK] [UNK] that [UNK] has a certain [UNK] about it makes one want to [UNK] [UNK] [UNK] and his [UNK] [UNK] [UNK] the film starts with a [UNK] [UNK] of [UNK] stupid [UNK] [UNK] who [UNK] in [UNK] that truly [UNK] the word [UNK] as [UNK] as a [UNK] dog [UNK] of a [UNK] [UNK] into a [UNK] [UNK] [UNK] the movies hero well [UNK] hero [UNK] up and says something to his [UNK] [UNK] [UNK] and then leaves [UNK] that this [UNK] of [UNK] will [UNK] his james [UNK] [UNK] and [UNK] [UNK] his [UNK] of getting [UNK] with the best [UNK] in the next [UNK] [UNK] [UNK] eventually he gets into [UNK] with [UNK] [UNK] [UNK] at a [UNK] and [UNK] the movie under the [UNK] american [UNK] [UNK] looking for [UNK] or something like [UNK] br [UNK] predictable [UNK] on [UNK] is not only [UNK] [UNK] but has or had nothing new to [UNK] its just the same old [UNK] [UNK] [UNK] [UNK] [UNK] business [UNK] and whats wrong with that isnt that how [UNK] movies get made and [UNK] shots of tv [UNK] and [UNK] [UNK] the [UNK] [UNK] [UNK] [UNK] for the [UNK] [UNK] and [UNK] [UNK] [UNK] who [UNK] of no one but themselves their [UNK] their work and their [UNK] br [UNK] [UNK] [UNK] just like his [UNK] [UNK] and [UNK] of the late [UNK] [UNK] to [UNK] the most obvious and [UNK] [UNK] about their silly [UNK] they were [UNK] to have their [UNK] [UNK] and [UNK] their [UNK] [UNK] [UNK] within that very [UNK] [UNK] the [UNK] in those [UNK] whose [UNK] [UNK] they [UNK] did not and still do not by far the greatest [UNK] about the [UNK] and [UNK] [UNK] [UNK] to realize this as well his [UNK] being [UNK] by [UNK] and an [UNK] [UNK] of [UNK] is that [UNK] were are the [UNK] of [UNK] this is an [UNK] [UNK] only in a [UNK] [UNK] [UNK] can you find that [UNK] called [UNK] a [UNK] [UNK] and [UNK] bunch of middle and [UNK] class [UNK] br the film itself seems to go on [UNK] [UNK] takes his [UNK] time with getting on with it while including [UNK] scenes of [UNK] with a high [UNK] [UNK] his attempts at [UNK] are annoying and [UNK] his [UNK] are highly [UNK] at best this film is [UNK] way of saying that [UNK] [UNK] is the [UNK] and this is what we get from an old [UNK] [UNK] [UNK] [UNK] who lives in [UNK] and [UNK] in the best french and [UNK] [UNK] br i dont remember seeing any major [UNK] movie about the [UNK] [UNK] of [UNK] of [UNK] in [UNK] but when one [UNK] [UNK] gets shot for [UNK] [UNK] [UNK] face into all our [UNK] we get ten major films about it at once i [UNK] this means that a [UNK] life is worth a [UNK] times less than a [UNK] one  at least to the [UNK] [UNK] who [UNK] [UNK] br if youre a [UNK] [UNK] and [UNK] this awful review please [UNK] no [UNK]                                                                                   \n",
            "\n",
            "Original:  b\"I guess there are some out there that remember Nicole Eggert from her little girl days on such TV shows as T.J. Hooker, Charles in Charge, and Who's the Boss? You perverts, you! Maybe you remember her from Baywatch when she grew up and got breast implants. No matter, you will certainly forget her in this supposed comedy about man-eating aliens.<br /><br />There are so many things that do not make sense and are never explained. How did she recognize the alien? Why was the alien hot for paprika and cinnamon? Why didn't the alien eat her? You get the picture.<br /><br />Before the alien eats her boyfriend and assumes his identity, you get to see her in the body of Alex Meneses. This Mexican/Ukranian beauty is the only reason to watch this trash. Stay for the shower scene and the boyfriend, and go on about your business.\"\n",
            "Round-trip:  i guess there are some out there that remember [UNK] [UNK] from her little girl days on such tv shows as [UNK] [UNK] [UNK] in [UNK] and whos the [UNK] you [UNK] you maybe you remember her from [UNK] when she [UNK] up and got [UNK] [UNK] no matter you will certainly forget her in this supposed comedy about [UNK] [UNK] br there are so many things that do not make sense and are never [UNK] how did she [UNK] the [UNK] why was the [UNK] hot for [UNK] and [UNK] why didnt the [UNK] [UNK] her you get the [UNK] br before the [UNK] [UNK] her [UNK] and [UNK] his [UNK] you get to see her in the body of [UNK] [UNK] this [UNK] beauty is the only reason to watch this [UNK] stay for the [UNK] scene and the [UNK] and go on about your business                                                                                                                                                                                                                                                                                                                                                                                                                                                                                                                                                                                                                           \n",
            "\n"
          ]
        }
      ]
    },
    {
      "cell_type": "markdown",
      "source": [
        "### Create a Model"
      ],
      "metadata": {
        "id": "7hK9V4MuHcFh"
      }
    },
    {
      "cell_type": "code",
      "source": [
        "model = tf.keras.Sequential([\n",
        "    encoder,\n",
        "    tf.keras.layers.Embedding(\n",
        "        input_dim=len(encoder.get_vocabulary()),\n",
        "        output_dim=64,\n",
        "        # Use masking to handle the variable sequence lengths\n",
        "        mask_zero=True),\n",
        "    tf.keras.layers.Bidirectional(tf.keras.layers.LSTM(64)),\n",
        "    tf.keras.layers.Dense(64, activation='relu'),\n",
        "    tf.keras.layers.Dense(1)\n",
        "])"
      ],
      "metadata": {
        "id": "9TuUvJAuHdHQ"
      },
      "execution_count": 10,
      "outputs": []
    },
    {
      "cell_type": "code",
      "source": [
        "print([layer.supports_masking for layer in model.layers])"
      ],
      "metadata": {
        "colab": {
          "base_uri": "https://localhost:8080/"
        },
        "id": "-y8VYmRNHj0U",
        "outputId": "7278374a-bb09-4eeb-a23a-80a62044e0d7"
      },
      "execution_count": 11,
      "outputs": [
        {
          "output_type": "stream",
          "name": "stdout",
          "text": [
            "[False, True, True, True, True]\n"
          ]
        }
      ]
    },
    {
      "cell_type": "code",
      "source": [
        "# predict on a sample text without padding.\n",
        "\n",
        "sample_text = ('The movie was cool. The animation and the graphics '\n",
        "               'were out of this world. I would recommend this movie.')\n",
        "predictions = model.predict(np.array([sample_text]))\n",
        "print(predictions[0])"
      ],
      "metadata": {
        "colab": {
          "base_uri": "https://localhost:8080/"
        },
        "id": "hxeA4wj1HomE",
        "outputId": "eda84f0f-1fe3-4b1a-c679-af11db6ada49"
      },
      "execution_count": 12,
      "outputs": [
        {
          "output_type": "stream",
          "name": "stdout",
          "text": [
            "1/1 [==============================] - 7s 7s/step\n",
            "[0.00134256]\n"
          ]
        }
      ]
    },
    {
      "cell_type": "code",
      "source": [
        "# predict on a sample text with padding\n",
        "\n",
        "padding = \"the \" * 2000\n",
        "predictions = model.predict(np.array([sample_text, padding]))\n",
        "print(predictions[0])"
      ],
      "metadata": {
        "colab": {
          "base_uri": "https://localhost:8080/"
        },
        "id": "q0xEQju3HpLd",
        "outputId": "0b16d642-1c83-4881-bab0-c5b469e564cb"
      },
      "execution_count": 13,
      "outputs": [
        {
          "output_type": "stream",
          "name": "stdout",
          "text": [
            "1/1 [==============================] - 0s 62ms/step\n",
            "[0.00134256]\n"
          ]
        }
      ]
    },
    {
      "cell_type": "code",
      "source": [
        "model.compile(loss=tf.keras.losses.BinaryCrossentropy(from_logits=True),\n",
        "              optimizer=tf.keras.optimizers.Adam(1e-4),\n",
        "              metrics=['accuracy'])"
      ],
      "metadata": {
        "id": "1N-dvmTyHrwW"
      },
      "execution_count": 14,
      "outputs": []
    },
    {
      "cell_type": "markdown",
      "source": [
        "### Train Model"
      ],
      "metadata": {
        "id": "fiP8aAzJHwXp"
      }
    },
    {
      "cell_type": "code",
      "source": [
        "history = model.fit(train_dataset, epochs=10,\n",
        "                    validation_data=test_dataset,\n",
        "                    validation_steps=30)"
      ],
      "metadata": {
        "colab": {
          "base_uri": "https://localhost:8080/"
        },
        "id": "OyFyldDWHxUb",
        "outputId": "d90753bb-aa46-401c-96c5-d493b78713ff"
      },
      "execution_count": 15,
      "outputs": [
        {
          "output_type": "stream",
          "name": "stdout",
          "text": [
            "Epoch 1/10\n",
            "391/391 [==============================] - 58s 124ms/step - loss: 0.6222 - accuracy: 0.5911 - val_loss: 0.4678 - val_accuracy: 0.7812\n",
            "Epoch 2/10\n",
            "391/391 [==============================] - 24s 62ms/step - loss: 0.4014 - accuracy: 0.8212 - val_loss: 0.3872 - val_accuracy: 0.8464\n",
            "Epoch 3/10\n",
            "391/391 [==============================] - 26s 64ms/step - loss: 0.3440 - accuracy: 0.8500 - val_loss: 0.3494 - val_accuracy: 0.8370\n",
            "Epoch 4/10\n",
            "391/391 [==============================] - 25s 62ms/step - loss: 0.3262 - accuracy: 0.8586 - val_loss: 0.3344 - val_accuracy: 0.8526\n",
            "Epoch 5/10\n",
            "391/391 [==============================] - 24s 62ms/step - loss: 0.3162 - accuracy: 0.8627 - val_loss: 0.3481 - val_accuracy: 0.8464\n",
            "Epoch 6/10\n",
            "391/391 [==============================] - 25s 64ms/step - loss: 0.3124 - accuracy: 0.8656 - val_loss: 0.3281 - val_accuracy: 0.8547\n",
            "Epoch 7/10\n",
            "391/391 [==============================] - 24s 62ms/step - loss: 0.3081 - accuracy: 0.8673 - val_loss: 0.3516 - val_accuracy: 0.8620\n",
            "Epoch 8/10\n",
            "391/391 [==============================] - 25s 63ms/step - loss: 0.3050 - accuracy: 0.8704 - val_loss: 0.3230 - val_accuracy: 0.8547\n",
            "Epoch 9/10\n",
            "391/391 [==============================] - 25s 62ms/step - loss: 0.3049 - accuracy: 0.8683 - val_loss: 0.3220 - val_accuracy: 0.8604\n",
            "Epoch 10/10\n",
            "391/391 [==============================] - 25s 63ms/step - loss: 0.3027 - accuracy: 0.8698 - val_loss: 0.3272 - val_accuracy: 0.8479\n"
          ]
        }
      ]
    },
    {
      "cell_type": "code",
      "source": [
        "test_loss, test_acc = model.evaluate(test_dataset)\n",
        "\n",
        "print('Test Loss:', test_loss)\n",
        "print('Test Accuracy:', test_acc)"
      ],
      "metadata": {
        "colab": {
          "base_uri": "https://localhost:8080/"
        },
        "id": "Ou-dOrcqHt_f",
        "outputId": "d08f13ff-4607-413b-a2e9-b888990b8c1e"
      },
      "execution_count": 16,
      "outputs": [
        {
          "output_type": "stream",
          "name": "stdout",
          "text": [
            "391/391 [==============================] - 11s 29ms/step - loss: 0.3243 - accuracy: 0.8461\n",
            "Test Loss: 0.3243265450000763\n",
            "Test Accuracy: 0.8460800051689148\n"
          ]
        }
      ]
    },
    {
      "cell_type": "code",
      "source": [
        "plt.figure(figsize=(16, 8))\n",
        "plt.subplot(1, 2, 1)\n",
        "plot_graphs(history, 'accuracy')\n",
        "plt.ylim(None, 1)\n",
        "plt.subplot(1, 2, 2)\n",
        "plot_graphs(history, 'loss')\n",
        "plt.ylim(0, None)"
      ],
      "metadata": {
        "colab": {
          "base_uri": "https://localhost:8080/",
          "height": 634
        },
        "id": "44vmWujaI3wj",
        "outputId": "d84b5bbe-332a-4b3c-8292-f47ffbe8745e"
      },
      "execution_count": 17,
      "outputs": [
        {
          "output_type": "execute_result",
          "data": {
            "text/plain": [
              "(0.0, 0.6382212951779366)"
            ]
          },
          "metadata": {},
          "execution_count": 17
        },
        {
          "output_type": "display_data",
          "data": {
            "text/plain": [
              "<Figure size 1600x800 with 2 Axes>"
            ],
            "image/png": "[encoded data removed]"
          },
          "metadata": {}
        }
      ]
    },
    {
      "cell_type": "code",
      "source": [
        "sample_text = ('The movie was cool. The animation and the graphics '\n",
        "               'were out of this world. I would recommend this movie.')\n",
        "predictions = model.predict(np.array([sample_text]))"
      ],
      "metadata": {
        "colab": {
          "base_uri": "https://localhost:8080/"
        },
        "id": "hqhDjWdgJKFk",
        "outputId": "8514e953-6255-4870-82e3-fe6eb0304b42"
      },
      "execution_count": 18,
      "outputs": [
        {
          "output_type": "stream",
          "name": "stdout",
          "text": [
            "1/1 [==============================] - 2s 2s/step\n"
          ]
        }
      ]
    },
    {
      "cell_type": "code",
      "source": [
        "model = tf.keras.Sequential([\n",
        "    encoder,\n",
        "    tf.keras.layers.Embedding(len(encoder.get_vocabulary()), 64, mask_zero=True),\n",
        "    tf.keras.layers.Bidirectional(tf.keras.layers.LSTM(64, return_sequences=True)),\n",
        "    tf.keras.layers.Bidirectional(tf.keras.layers.LSTM(32)),\n",
        "    tf.keras.layers.Dense(64, activation='relu'),\n",
        "    tf.keras.layers.Dropout(0.5),\n",
        "    tf.keras.layers.Dense(1)\n",
        "])"
      ],
      "metadata": {
        "id": "NKHjcu5pJlTT"
      },
      "execution_count": 19,
      "outputs": []
    },
    {
      "cell_type": "code",
      "source": [
        "model.compile(loss=tf.keras.losses.BinaryCrossentropy(from_logits=True),\n",
        "              optimizer=tf.keras.optimizers.Adam(1e-4),\n",
        "              metrics=['accuracy'])"
      ],
      "metadata": {
        "id": "claxGseeJnU7"
      },
      "execution_count": 20,
      "outputs": []
    },
    {
      "cell_type": "code",
      "source": [
        "history = model.fit(train_dataset, epochs=10,\n",
        "                    validation_data=test_dataset,\n",
        "                    validation_steps=30)"
      ],
      "metadata": {
        "colab": {
          "base_uri": "https://localhost:8080/"
        },
        "id": "1b7qyCFNJqAA",
        "outputId": "6d0993fe-d1c7-4ca4-a3f8-7b3ca08717f5"
      },
      "execution_count": 21,
      "outputs": [
        {
          "output_type": "stream",
          "name": "stdout",
          "text": [
            "Epoch 1/10\n",
            "391/391 [==============================] - 75s 145ms/step - loss: 0.6138 - accuracy: 0.5979 - val_loss: 0.4201 - val_accuracy: 0.7818\n",
            "Epoch 2/10\n",
            "391/391 [==============================] - 45s 114ms/step - loss: 0.3751 - accuracy: 0.8349 - val_loss: 0.3416 - val_accuracy: 0.8432\n",
            "Epoch 3/10\n",
            "391/391 [==============================] - 46s 117ms/step - loss: 0.3338 - accuracy: 0.8555 - val_loss: 0.3277 - val_accuracy: 0.8495\n",
            "Epoch 4/10\n",
            "391/391 [==============================] - 44s 113ms/step - loss: 0.3155 - accuracy: 0.8647 - val_loss: 0.3207 - val_accuracy: 0.8526\n",
            "Epoch 5/10\n",
            "391/391 [==============================] - 45s 114ms/step - loss: 0.3123 - accuracy: 0.8666 - val_loss: 0.3178 - val_accuracy: 0.8589\n",
            "Epoch 6/10\n",
            "391/391 [==============================] - 44s 112ms/step - loss: 0.3059 - accuracy: 0.8680 - val_loss: 0.3151 - val_accuracy: 0.8620\n",
            "Epoch 7/10\n",
            "391/391 [==============================] - 44s 113ms/step - loss: 0.2992 - accuracy: 0.8708 - val_loss: 0.3166 - val_accuracy: 0.8667\n",
            "Epoch 8/10\n",
            "391/391 [==============================] - 45s 114ms/step - loss: 0.2995 - accuracy: 0.8719 - val_loss: 0.3144 - val_accuracy: 0.8615\n",
            "Epoch 9/10\n",
            "391/391 [==============================] - 45s 113ms/step - loss: 0.2946 - accuracy: 0.8741 - val_loss: 0.3211 - val_accuracy: 0.8531\n",
            "Epoch 10/10\n",
            "391/391 [==============================] - 44s 113ms/step - loss: 0.2941 - accuracy: 0.8745 - val_loss: 0.3167 - val_accuracy: 0.8656\n"
          ]
        }
      ]
    },
    {
      "cell_type": "code",
      "source": [
        "# predict on a sample text without padding.\n",
        "\n",
        "sample_text = ('The movie was not good. The animation and the graphics '\n",
        "               'were terrible. I would not recommend this movie.')\n",
        "predictions = model.predict(np.array([sample_text]))\n",
        "print(predictions)"
      ],
      "metadata": {
        "id": "UW36WOVHJsGe",
        "colab": {
          "base_uri": "https://localhost:8080/"
        },
        "outputId": "61cb6e33-6c74-4d9f-cfd7-8309806449d2"
      },
      "execution_count": 22,
      "outputs": [
        {
          "output_type": "stream",
          "name": "stdout",
          "text": [
            "1/1 [==============================] - 5s 5s/step\n",
            "[[-1.6906329]]\n"
          ]
        }
      ]
    },
    {
      "cell_type": "code",
      "source": [
        "plt.figure(figsize=(16, 6))\n",
        "plt.subplot(1, 2, 1)\n",
        "plot_graphs(history, 'accuracy')\n",
        "plt.subplot(1, 2, 2)\n",
        "plot_graphs(history, 'loss')\n"
      ],
      "metadata": {
        "id": "byTWqZFYJvPO",
        "colab": {
          "base_uri": "https://localhost:8080/",
          "height": 478
        },
        "outputId": "eecf1cfb-28b7-4013-98e1-7ab129c16793"
      },
      "execution_count": 23,
      "outputs": [
        {
          "output_type": "display_data",
          "data": {
            "text/plain": [
              "<Figure size 1600x600 with 2 Axes>"
            ],
            "image/png": "[encoded data removed]"
          },
          "metadata": {}
        }
      ]
    },
    {
      "cell_type": "markdown",
      "source": [
        "## Lab Work 2"
      ],
      "metadata": {
        "id": "p8qIUvF-J0_A"
      }
    },
    {
      "cell_type": "markdown",
      "source": [
        "### Setup"
      ],
      "metadata": {
        "id": "J_eThxq6KPR2"
      }
    },
    {
      "cell_type": "code",
      "source": [
        "import tensorflow as tf\n",
        "import numpy as np\n",
        "import os\n",
        "import time\n"
      ],
      "metadata": {
        "id": "3tcR3hsvJ2gF"
      },
      "execution_count": 24,
      "outputs": []
    },
    {
      "cell_type": "code",
      "source": [
        "path_to_file=tf.keras.utils.get_file('shakespeare.txt','https://storage.googleapis.com/download.tensorflow.org/data/shakespeare.txt')\n"
      ],
      "metadata": {
        "colab": {
          "base_uri": "https://localhost:8080/"
        },
        "id": "i5aTkpcUKI6M",
        "outputId": "a2d39d32-3862-462a-ad37-1d298501c053"
      },
      "execution_count": 25,
      "outputs": [
        {
          "output_type": "stream",
          "name": "stdout",
          "text": [
            "Downloading data from https://storage.googleapis.com/download.tensorflow.org/data/shakespeare.txt\n",
            "1115394/1115394 [==============================] - 0s 0us/step\n"
          ]
        }
      ]
    },
    {
      "cell_type": "markdown",
      "source": [
        "### Load data"
      ],
      "metadata": {
        "id": "Lm0qp2Q3KR7P"
      }
    },
    {
      "cell_type": "code",
      "source": [
        "# Read, then decode for py2 compat.\n",
        "text = open(path_to_file, 'rb').read().decode(encoding='utf-8')\n",
        "# length of text is the number of characters in it\n",
        "print(f'Length of text: {len(text)} characters')"
      ],
      "metadata": {
        "colab": {
          "base_uri": "https://localhost:8080/"
        },
        "id": "NiP8fHNpKOS7",
        "outputId": "f18c2224-a43a-4729-d5ba-da8b6ecb143c"
      },
      "execution_count": 26,
      "outputs": [
        {
          "output_type": "stream",
          "name": "stdout",
          "text": [
            "Length of text: 1115394 characters\n"
          ]
        }
      ]
    },
    {
      "cell_type": "code",
      "source": [
        "# Take a look at the first 250 characters in text\n",
        "print(text[:250])"
      ],
      "metadata": {
        "colab": {
          "base_uri": "https://localhost:8080/"
        },
        "id": "hAqk-QVyKcJv",
        "outputId": "577638bd-6414-4f73-ec63-3f20a2f94f6b"
      },
      "execution_count": 27,
      "outputs": [
        {
          "output_type": "stream",
          "name": "stdout",
          "text": [
            "First Citizen:\n",
            "Before we proceed any further, hear me speak.\n",
            "\n",
            "All:\n",
            "Speak, speak.\n",
            "\n",
            "First Citizen:\n",
            "You are all resolved rather to die than to famish?\n",
            "\n",
            "All:\n",
            "Resolved. resolved.\n",
            "\n",
            "First Citizen:\n",
            "First, you know Caius Marcius is chief enemy to the people.\n",
            "\n"
          ]
        }
      ]
    },
    {
      "cell_type": "code",
      "source": [
        "# The unique characters in the file\n",
        "vocab = sorted(set(text))\n",
        "print(f'{len(vocab)} unique characters')\n"
      ],
      "metadata": {
        "colab": {
          "base_uri": "https://localhost:8080/"
        },
        "id": "z2trg9Y1KckZ",
        "outputId": "b1153425-15c6-4fe4-b5a9-fd39558f7414"
      },
      "execution_count": 28,
      "outputs": [
        {
          "output_type": "stream",
          "name": "stdout",
          "text": [
            "65 unique characters\n"
          ]
        }
      ]
    },
    {
      "cell_type": "markdown",
      "source": [
        "### Text Processing"
      ],
      "metadata": {
        "id": "U_261uSpMFyO"
      }
    },
    {
      "cell_type": "code",
      "source": [
        "example_texts=['abcdefg','xyz']\n",
        "chars=tf.strings.unicode_split(example_texts,input_encoding='UTF-8')\n",
        "chars"
      ],
      "metadata": {
        "colab": {
          "base_uri": "https://localhost:8080/"
        },
        "id": "RxNRsDRBMH6L",
        "outputId": "e4fa6fa3-32e4-484c-8f1a-13a551fc0115"
      },
      "execution_count": 29,
      "outputs": [
        {
          "data": {
            "text/plain": [
              "<tf.RaggedTensor [[b'a', b'b', b'c', b'd', b'e', b'f', b'g'], [b'x', b'y', b'z']]>"
            ]
          },
          "execution_count": 29,
          "metadata": {},
          "output_type": "execute_result"
        }
      ]
    },
    {
      "cell_type": "code",
      "source": [
        "ids_from_chars=tf.keras.layers.StringLookup(vocabulary=list(vocab),mask_token=None)\n"
      ],
      "metadata": {
        "id": "U4cx--zwNZzZ"
      },
      "execution_count": 30,
      "outputs": []
    },
    {
      "cell_type": "code",
      "source": [
        "ids=ids_from_chars(chars)\n",
        "ids"
      ],
      "metadata": {
        "colab": {
          "base_uri": "https://localhost:8080/"
        },
        "id": "ZWy30rajNbWn",
        "outputId": "73d8e15d-5270-4411-e5e4-25fc12b3d10a"
      },
      "execution_count": 31,
      "outputs": [
        {
          "data": {
            "text/plain": [
              "<tf.RaggedTensor [[40, 41, 42, 43, 44, 45, 46], [63, 64, 65]]>"
            ]
          },
          "execution_count": 31,
          "metadata": {},
          "output_type": "execute_result"
        }
      ]
    },
    {
      "cell_type": "code",
      "source": [
        "chars_from_ids = tf.keras.layers.StringLookup(\n",
        "    vocabulary=ids_from_chars.get_vocabulary(), invert=True, mask_token=None)"
      ],
      "metadata": {
        "id": "2c1N656NNlw4"
      },
      "execution_count": 32,
      "outputs": []
    },
    {
      "cell_type": "code",
      "source": [
        "chars=chars_from_ids(ids)\n",
        "chars"
      ],
      "metadata": {
        "colab": {
          "base_uri": "https://localhost:8080/"
        },
        "id": "Rz_Crp3pNo6N",
        "outputId": "e1736235-549f-4b76-9667-75e46673ad86"
      },
      "execution_count": 33,
      "outputs": [
        {
          "output_type": "execute_result",
          "data": {
            "text/plain": [
              "<tf.RaggedTensor [[b'a', b'b', b'c', b'd', b'e', b'f', b'g'], [b'x', b'y', b'z']]>"
            ]
          },
          "metadata": {},
          "execution_count": 33
        }
      ]
    },
    {
      "cell_type": "code",
      "source": [
        "tf.strings.reduce_join(chars,axis=-1).numpy()\n"
      ],
      "metadata": {
        "colab": {
          "base_uri": "https://localhost:8080/"
        },
        "id": "Y126anEkNvVn",
        "outputId": "01a45d15-b11b-4e76-9b49-ea876f7b22fb"
      },
      "execution_count": 34,
      "outputs": [
        {
          "output_type": "execute_result",
          "data": {
            "text/plain": [
              "array([b'abcdefg', b'xyz'], dtype=object)"
            ]
          },
          "metadata": {},
          "execution_count": 34
        }
      ]
    },
    {
      "cell_type": "markdown",
      "source": [
        "### Prediction"
      ],
      "metadata": {
        "id": "qhEMEMDZN83e"
      }
    },
    {
      "cell_type": "code",
      "source": [
        "all_ids=ids_from_chars(tf.strings.unicode_split(text,'UTF-8'))\n",
        "all_ids\n"
      ],
      "metadata": {
        "colab": {
          "base_uri": "https://localhost:8080/"
        },
        "id": "axSH6MWrN9vO",
        "outputId": "a84bd3fc-89d8-470c-a809-f04f284d338b"
      },
      "execution_count": 35,
      "outputs": [
        {
          "output_type": "execute_result",
          "data": {
            "text/plain": [
              "<tf.Tensor: shape=(1115394,), dtype=int64, numpy=array([19, 48, 57, ..., 46,  9,  1])>"
            ]
          },
          "metadata": {},
          "execution_count": 35
        }
      ]
    },
    {
      "cell_type": "code",
      "source": [
        "ids_dataset=tf.data.Dataset.from_tensor_slices(all_ids)\n"
      ],
      "metadata": {
        "id": "sDG-0-WwN7yN"
      },
      "execution_count": 36,
      "outputs": []
    },
    {
      "cell_type": "code",
      "source": [
        "for ids in ids_dataset.take(10):\n",
        "    print(chars_from_ids(ids).numpy().decode('utf-8'))"
      ],
      "metadata": {
        "colab": {
          "base_uri": "https://localhost:8080/"
        },
        "id": "LfyDYUQYOHD2",
        "outputId": "63132ce8-9982-4daf-dee1-a68bb2c8f12e"
      },
      "execution_count": 37,
      "outputs": [
        {
          "output_type": "stream",
          "name": "stdout",
          "text": [
            "F\n",
            "i\n",
            "r\n",
            "s\n",
            "t\n",
            " \n",
            "C\n",
            "i\n",
            "t\n",
            "i\n"
          ]
        }
      ]
    },
    {
      "cell_type": "code",
      "source": [
        "seq_length=100\n"
      ],
      "metadata": {
        "id": "h74J1I6FOJx2"
      },
      "execution_count": 38,
      "outputs": []
    },
    {
      "cell_type": "code",
      "source": [
        "sequences = ids_dataset.batch(seq_length+1, drop_remainder=True)\n",
        "\n",
        "for seq in sequences.take(1):\n",
        "  print(chars_from_ids(seq))"
      ],
      "metadata": {
        "colab": {
          "base_uri": "https://localhost:8080/"
        },
        "id": "lwtjjyVhOOEB",
        "outputId": "7f173342-e161-48eb-d75f-a556255b16a3"
      },
      "execution_count": 39,
      "outputs": [
        {
          "output_type": "stream",
          "name": "stdout",
          "text": [
            "tf.Tensor(\n",
            "[b'F' b'i' b'r' b's' b't' b' ' b'C' b'i' b't' b'i' b'z' b'e' b'n' b':'\n",
            " b'\\n' b'B' b'e' b'f' b'o' b'r' b'e' b' ' b'w' b'e' b' ' b'p' b'r' b'o'\n",
            " b'c' b'e' b'e' b'd' b' ' b'a' b'n' b'y' b' ' b'f' b'u' b'r' b't' b'h'\n",
            " b'e' b'r' b',' b' ' b'h' b'e' b'a' b'r' b' ' b'm' b'e' b' ' b's' b'p'\n",
            " b'e' b'a' b'k' b'.' b'\\n' b'\\n' b'A' b'l' b'l' b':' b'\\n' b'S' b'p' b'e'\n",
            " b'a' b'k' b',' b' ' b's' b'p' b'e' b'a' b'k' b'.' b'\\n' b'\\n' b'F' b'i'\n",
            " b'r' b's' b't' b' ' b'C' b'i' b't' b'i' b'z' b'e' b'n' b':' b'\\n' b'Y'\n",
            " b'o' b'u' b' '], shape=(101,), dtype=string)\n"
          ]
        }
      ]
    },
    {
      "cell_type": "code",
      "source": [
        "ids_from_chars = tf.keras.layers.StringLookup(\n",
        "    vocabulary=ids_from_chars.get_vocabulary(), invert=True, mask_token=None)\n",
        "\n",
        "def text_from_ids(ids):\n",
        "    return tf.strings.reduce_join(ids_from_chars(ids), axis=-1).numpy()\n"
      ],
      "metadata": {
        "id": "GxKys2XMn2eV"
      },
      "execution_count": 40,
      "outputs": []
    },
    {
      "cell_type": "code",
      "source": [
        "for seq in sequences.take(5):\n",
        "    print(text_from_ids(seq))\n"
      ],
      "metadata": {
        "colab": {
          "base_uri": "https://localhost:8080/"
        },
        "id": "dM-alihEOQFZ",
        "outputId": "a33e75c3-a9c5-4847-a7ed-7a75068da026"
      },
      "execution_count": 41,
      "outputs": [
        {
          "output_type": "stream",
          "name": "stdout",
          "text": [
            "b'First Citizen:\\nBefore we proceed any further, hear me speak.\\n\\nAll:\\nSpeak, speak.\\n\\nFirst Citizen:\\nYou '\n",
            "b'are all resolved rather to die than to famish?\\n\\nAll:\\nResolved. resolved.\\n\\nFirst Citizen:\\nFirst, you k'\n",
            "b\"now Caius Marcius is chief enemy to the people.\\n\\nAll:\\nWe know't, we know't.\\n\\nFirst Citizen:\\nLet us ki\"\n",
            "b\"ll him, and we'll have corn at our own price.\\nIs't a verdict?\\n\\nAll:\\nNo more talking on't; let it be d\"\n",
            "b'one: away, away!\\n\\nSecond Citizen:\\nOne word, good citizens.\\n\\nFirst Citizen:\\nWe are accounted poor citi'\n"
          ]
        }
      ]
    },
    {
      "cell_type": "code",
      "source": [
        "def split_input_target(sequence):\n",
        "    input_text = sequence[:-1]\n",
        "    target_text = sequence[1:]\n",
        "    return input_text, target_text"
      ],
      "metadata": {
        "id": "EAuMG1dmOepW"
      },
      "execution_count": 42,
      "outputs": []
    },
    {
      "cell_type": "code",
      "source": [
        "split_input_target(list(\"Tensorflow\"))\n"
      ],
      "metadata": {
        "colab": {
          "base_uri": "https://localhost:8080/"
        },
        "id": "Vm7uva1-OtX6",
        "outputId": "be0332a3-fbce-4142-929c-0b6596e2fc6b"
      },
      "execution_count": 43,
      "outputs": [
        {
          "data": {
            "text/plain": [
              "(['T', 'e', 'n', 's', 'o', 'r', 'f', 'l', 'o'],\n",
              " ['e', 'n', 's', 'o', 'r', 'f', 'l', 'o', 'w'])"
            ]
          },
          "execution_count": 43,
          "metadata": {},
          "output_type": "execute_result"
        }
      ]
    },
    {
      "cell_type": "code",
      "source": [
        "dataset = sequences.map(split_input_target)\n"
      ],
      "metadata": {
        "id": "JFkX1AB4OwQG"
      },
      "execution_count": 44,
      "outputs": []
    },
    {
      "cell_type": "code",
      "source": [
        "for input_example,target_example in dataset.take(1):\n",
        "    print(\"Input :\",text_from_ids(input_example))\n",
        "    print(\"Target:\",text_from_ids(target_example))"
      ],
      "metadata": {
        "colab": {
          "base_uri": "https://localhost:8080/"
        },
        "id": "iUfGi21DOyUA",
        "outputId": "9af119ac-4bda-46c0-b990-501cbb2eb6f7"
      },
      "execution_count": 45,
      "outputs": [
        {
          "output_type": "stream",
          "name": "stdout",
          "text": [
            "Input : b'First Citizen:\\nBefore we proceed any further, hear me speak.\\n\\nAll:\\nSpeak, speak.\\n\\nFirst Citizen:\\nYou'\n",
            "Target: b'irst Citizen:\\nBefore we proceed any further, hear me speak.\\n\\nAll:\\nSpeak, speak.\\n\\nFirst Citizen:\\nYou '\n"
          ]
        }
      ]
    },
    {
      "cell_type": "markdown",
      "source": [
        "### Creating Batch Training"
      ],
      "metadata": {
        "id": "G7r5IgHTPYmA"
      }
    },
    {
      "cell_type": "code",
      "source": [
        "# Batch size\n",
        "BATCH_SIZE = 64\n",
        "\n",
        "# Buffer size to shuffle the dataset\n",
        "# (TF data is designed to work with possibly infinite sequences,\n",
        "# so it doesn't attempt to shuffle the entire sequence in memory. Instead,\n",
        "# it maintains a buffer in which it shuffles elements).\n",
        "BUFFER_SIZE = 10000\n",
        "\n",
        "dataset = (\n",
        "    dataset\n",
        "    .shuffle(BUFFER_SIZE)\n",
        "    .batch(BATCH_SIZE, drop_remainder=True)\n",
        "    .prefetch(tf.data.experimental.AUTOTUNE))\n",
        "\n",
        "dataset"
      ],
      "metadata": {
        "colab": {
          "base_uri": "https://localhost:8080/"
        },
        "id": "5jHIuD_ePYbw",
        "outputId": "82035fa5-3120-454d-87b6-89a8a1ba65f6"
      },
      "execution_count": 46,
      "outputs": [
        {
          "output_type": "execute_result",
          "data": {
            "text/plain": [
              "<_PrefetchDataset element_spec=(TensorSpec(shape=(64, 100), dtype=tf.int64, name=None), TensorSpec(shape=(64, 100), dtype=tf.int64, name=None))>"
            ]
          },
          "metadata": {},
          "execution_count": 46
        }
      ]
    },
    {
      "cell_type": "markdown",
      "source": [
        "### Create a model"
      ],
      "metadata": {
        "id": "lB_9lbK5PjSb"
      }
    },
    {
      "cell_type": "code",
      "source": [
        "# Length of the vocabulary in StringLookup Layer\n",
        "vocab_size = len(ids_from_chars.get_vocabulary())\n",
        "\n",
        "# The embedding dimension\n",
        "embedding_dim = 256\n",
        "\n",
        "# Number of RNN units\n",
        "rnn_units = 1024\n"
      ],
      "metadata": {
        "id": "vknOsL9kPcjm"
      },
      "execution_count": 47,
      "outputs": []
    },
    {
      "cell_type": "code",
      "source": [
        "class MyModel(tf.keras.Model):\n",
        "  def __init__(self, vocab_size, embedding_dim, rnn_units):\n",
        "    super().__init__(self)\n",
        "    self.embedding = tf.keras.layers.Embedding(vocab_size, embedding_dim)\n",
        "    self.gru = tf.keras.layers.GRU(rnn_units,\n",
        "                                   return_sequences=True,\n",
        "                                   return_state=True)\n",
        "    self.dense = tf.keras.layers.Dense(vocab_size)\n",
        "\n",
        "  def call(self, inputs, states=None, return_state=False, training=False):\n",
        "    x = inputs\n",
        "    x = self.embedding(x, training=training)\n",
        "    if states is None:\n",
        "      states = self.gru.get_initial_state(x)\n",
        "    x, states = self.gru(x, initial_state=states, training=training)\n",
        "    x = self.dense(x, training=training)\n",
        "\n",
        "    if return_state:\n",
        "      return x, states\n",
        "    else:\n",
        "      return x"
      ],
      "metadata": {
        "id": "YUv00eCHPebL"
      },
      "execution_count": 48,
      "outputs": []
    },
    {
      "cell_type": "code",
      "source": [
        "model = MyModel(\n",
        "    vocab_size=vocab_size,\n",
        "    embedding_dim=embedding_dim,\n",
        "    rnn_units=rnn_units)"
      ],
      "metadata": {
        "id": "nlKXGJ7pPo7A"
      },
      "execution_count": 49,
      "outputs": []
    },
    {
      "cell_type": "markdown",
      "source": [
        "### Test The model"
      ],
      "metadata": {
        "id": "RxegNYAEPqmz"
      }
    },
    {
      "cell_type": "code",
      "source": [
        "for input_example_batch, target_example_batch in dataset.take(1):\n",
        "    example_batch_predictions = model(input_example_batch)\n",
        "    print(example_batch_predictions.shape, \"# (batch_size, sequence_length, vocab_size)\")"
      ],
      "metadata": {
        "colab": {
          "base_uri": "https://localhost:8080/"
        },
        "id": "PMttujXyPscr",
        "outputId": "bbf72b95-33d5-4658-ac64-3c58f5c1a526"
      },
      "execution_count": 50,
      "outputs": [
        {
          "output_type": "stream",
          "name": "stdout",
          "text": [
            "(64, 100, 66) # (batch_size, sequence_length, vocab_size)\n"
          ]
        }
      ]
    },
    {
      "cell_type": "code",
      "source": [
        "model.summary()\n"
      ],
      "metadata": {
        "colab": {
          "base_uri": "https://localhost:8080/"
        },
        "id": "glf3qSn3Pxmd",
        "outputId": "b75e1e23-d157-410e-c2e4-cc136d254bd4"
      },
      "execution_count": 51,
      "outputs": [
        {
          "output_type": "stream",
          "name": "stdout",
          "text": [
            "Model: \"my_model\"\n",
            "_________________________________________________________________\n",
            " Layer (type)                Output Shape              Param #   \n",
            "=================================================================\n",
            " embedding_2 (Embedding)     multiple                  16896     \n",
            "                                                                 \n",
            " gru (GRU)                   multiple                  3938304   \n",
            "                                                                 \n",
            " dense_4 (Dense)             multiple                  67650     \n",
            "                                                                 \n",
            "=================================================================\n",
            "Total params: 4022850 (15.35 MB)\n",
            "Trainable params: 4022850 (15.35 MB)\n",
            "Non-trainable params: 0 (0.00 Byte)\n",
            "_________________________________________________________________\n"
          ]
        }
      ]
    },
    {
      "cell_type": "code",
      "source": [
        "sampled_indices=tf.random.categorical(example_batch_predictions[0],num_samples=1)\n",
        "sampled_indices=tf.squeeze(sampled_indices,axis=-1).numpy()"
      ],
      "metadata": {
        "id": "QJWmukJ3Pzoc"
      },
      "execution_count": 52,
      "outputs": []
    },
    {
      "cell_type": "code",
      "source": [
        "sampled_indices\n"
      ],
      "metadata": {
        "colab": {
          "base_uri": "https://localhost:8080/"
        },
        "id": "LEPabUaUP1Eu",
        "outputId": "2db17f3e-370b-41c6-feb1-ecd747105753"
      },
      "execution_count": 53,
      "outputs": [
        {
          "data": {
            "text/plain": [
              "array([38, 51, 57, 40,  1, 60, 51, 54, 64, 20,  4,  2, 39, 51, 46, 38, 27,\n",
              "       49, 32, 20, 54,  3,  7, 49, 56, 16, 63, 27,  3, 46, 56, 23, 46, 47,\n",
              "       64, 63, 29, 42, 45, 59, 65, 45, 53, 17, 40, 53, 40, 39,  8, 15, 24,\n",
              "        8, 52,  2, 13, 57, 51, 54, 26, 59,  7, 30, 44, 44, 38, 42, 33, 58,\n",
              "       13, 46, 48, 58,  1, 43, 21, 29, 37, 53, 28,  3, 60, 32, 45, 45, 53,\n",
              "       30,  5, 57, 28, 22, 48, 48, 64,  8, 34,  3, 18, 16,  8, 36])"
            ]
          },
          "execution_count": 53,
          "metadata": {},
          "output_type": "execute_result"
        }
      ]
    },
    {
      "cell_type": "code",
      "source": [
        "print(\"Input:\\n\",text_from_ids(input_example_batch[0]))\n",
        "print()\n",
        "print(\"Next Char Predictions:\\n\",text_from_ids(sampled_indices))\n"
      ],
      "metadata": {
        "colab": {
          "base_uri": "https://localhost:8080/"
        },
        "id": "mULgEDZ6P1_e",
        "outputId": "d87ff56e-1fe2-4350-c6b7-1e171a03d5ac"
      },
      "execution_count": 54,
      "outputs": [
        {
          "output_type": "stream",
          "name": "stdout",
          "text": [
            "Input:\n",
            " b'you know the reason of this haste.\\n\\nFRIAR LAURENCE:\\n\\nPARIS:\\nHappily met, my lady and my wife!\\n\\nJULIE'\n",
            "\n",
            "Next Char Predictions:\n",
            " b'Ylra\\nuloyG$ ZlgYNjSGo!,jqCxN!gqJghyxPcftzfnDanaZ-BK-m ?rloMt,QeeYcTs?gis\\ndHPXnO!uSffnQ&rOIiiy-U!EC-W'\n"
          ]
        }
      ]
    },
    {
      "cell_type": "markdown",
      "source": [
        "### Train the model"
      ],
      "metadata": {
        "id": "IuswffAiP6tL"
      }
    },
    {
      "cell_type": "code",
      "source": [
        "loss=tf.losses.SparseCategoricalCrossentropy(from_logits=True)\n"
      ],
      "metadata": {
        "id": "rSGerU5yP6iV"
      },
      "execution_count": 55,
      "outputs": []
    },
    {
      "cell_type": "code",
      "source": [
        "example_batch_mean_loss = loss(target_example_batch, example_batch_predictions)\n",
        "print(\"Prediction shape: \", example_batch_predictions.shape, \" # (batch_size, sequence_length, vocab_size)\")\n",
        "print(\"Mean loss:        \", example_batch_mean_loss)\n",
        "\n"
      ],
      "metadata": {
        "colab": {
          "base_uri": "https://localhost:8080/"
        },
        "id": "tbdGBeqsQAeo",
        "outputId": "7c2c6e89-28c4-4c11-e9a5-8dc4747da9ad"
      },
      "execution_count": 56,
      "outputs": [
        {
          "metadata": {
            "tags": null
          },
          "name": "stdout",
          "output_type": "stream",
          "text": [
            "Prediction shape:  (64, 100, 66)  # (batch_size, sequence_length, vocab_size)\n",
            "Mean loss:         tf.Tensor(4.188581, shape=(), dtype=float32)\n"
          ]
        }
      ]
    },
    {
      "cell_type": "code",
      "source": [
        "tf.exp(example_batch_mean_loss).numpy()\n"
      ],
      "metadata": {
        "colab": {
          "base_uri": "https://localhost:8080/"
        },
        "id": "NlfFGtHRQBBf",
        "outputId": "f13415f5-1ae2-4ce4-c690-cc5f0ef28144"
      },
      "execution_count": 57,
      "outputs": [
        {
          "data": {
            "text/plain": [
              "65.92918"
            ]
          },
          "execution_count": 57,
          "metadata": {},
          "output_type": "execute_result"
        }
      ]
    },
    {
      "cell_type": "code",
      "source": [
        "model.compile(optimizer='adam',loss=loss)\n"
      ],
      "metadata": {
        "id": "Z1zD3ruqQELB"
      },
      "execution_count": 58,
      "outputs": []
    },
    {
      "cell_type": "markdown",
      "source": [
        "### Configure Check Point"
      ],
      "metadata": {
        "id": "MhdgX0G3QFvC"
      }
    },
    {
      "cell_type": "code",
      "source": [
        "# Directory where the checkpoints will be saved\n",
        "checkpoint_dir = './training_checkpoints'\n",
        "# Name of the checkpoint files\n",
        "checkpoint_prefix = os.path.join(checkpoint_dir, \"ckpt_{epoch}\")\n",
        "\n",
        "checkpoint_callback = tf.keras.callbacks.ModelCheckpoint(\n",
        "    filepath=checkpoint_prefix,\n",
        "    save_weights_only=True)"
      ],
      "metadata": {
        "id": "V0BAlehjQHeL"
      },
      "execution_count": 59,
      "outputs": []
    },
    {
      "cell_type": "code",
      "source": [
        "EPOCHS=10\n"
      ],
      "metadata": {
        "id": "4myLHjHVQJcq"
      },
      "execution_count": 62,
      "outputs": []
    },
    {
      "cell_type": "code",
      "source": [
        "history=model.fit(dataset,epochs=EPOCHS,callbacks=[checkpoint_callback])\n"
      ],
      "metadata": {
        "colab": {
          "base_uri": "https://localhost:8080/"
        },
        "id": "WXsly95wQL5c",
        "outputId": "453b3cbd-e848-48b9-890e-d14a6344cae7"
      },
      "execution_count": 63,
      "outputs": [
        {
          "output_type": "stream",
          "name": "stdout",
          "text": [
            "Epoch 1/10\n",
            "172/172 [==============================] - 12s 56ms/step - loss: 1.4213\n",
            "Epoch 2/10\n",
            "172/172 [==============================] - 16s 60ms/step - loss: 1.3611\n",
            "Epoch 3/10\n",
            "172/172 [==============================] - 14s 58ms/step - loss: 1.3128\n",
            "Epoch 4/10\n",
            "172/172 [==============================] - 13s 59ms/step - loss: 1.2709\n",
            "Epoch 5/10\n",
            "172/172 [==============================] - 13s 54ms/step - loss: 1.2317\n",
            "Epoch 6/10\n",
            "172/172 [==============================] - 11s 54ms/step - loss: 1.1921\n",
            "Epoch 7/10\n",
            "172/172 [==============================] - 11s 54ms/step - loss: 1.1521\n",
            "Epoch 8/10\n",
            "172/172 [==============================] - 11s 54ms/step - loss: 1.1106\n",
            "Epoch 9/10\n",
            "172/172 [==============================] - 11s 55ms/step - loss: 1.0657\n",
            "Epoch 10/10\n",
            "172/172 [==============================] - 11s 55ms/step - loss: 1.0192\n"
          ]
        }
      ]
    },
    {
      "cell_type": "markdown",
      "source": [
        "### Generate Text"
      ],
      "metadata": {
        "id": "irwB1cORQPcI"
      }
    },
    {
      "cell_type": "code",
      "source": [
        "class OneStep(tf.keras.Model):\n",
        "  def __init__(self, model, chars_from_ids, ids_from_chars, temperature=1.0):\n",
        "    super().__init__()\n",
        "    self.temperature = temperature\n",
        "    self.model = model\n",
        "    self.chars_from_ids = chars_from_ids\n",
        "    self.ids_from_chars = ids_from_chars\n",
        "\n",
        "    # Create a mask to prevent \"[UNK]\" from being generated.\n",
        "    skip_ids = self.ids_from_chars(['[UNK]'])[:, None]\n",
        "    sparse_mask = tf.SparseTensor(\n",
        "        # Put a -inf at each bad index.\n",
        "        values=[-float('inf')]*len(skip_ids),\n",
        "        indices=skip_ids,\n",
        "        # Match the shape to the vocabulary\n",
        "        dense_shape=[len(ids_from_chars.get_vocabulary())])\n",
        "    self.prediction_mask = tf.sparse.to_dense(sparse_mask)\n",
        "\n",
        "  @tf.function\n",
        "  def generate_one_step(self, inputs, states=None):\n",
        "    # Convert strings to token IDs.\n",
        "    input_chars = tf.strings.unicode_split(inputs, 'UTF-8')\n",
        "    input_ids = self.ids_from_chars(input_chars).to_tensor()\n",
        "\n",
        "    # Run the model.\n",
        "    # predicted_logits.shape is [batch, char, next_char_logits]\n",
        "    predicted_logits, states = self.model(inputs=input_ids, states=states,\n",
        "                                          return_state=True)\n",
        "    # Only use the last prediction.\n",
        "    predicted_logits = predicted_logits[:, -1, :]\n",
        "    predicted_logits = predicted_logits/self.temperature\n",
        "    # Apply the prediction mask: prevent \"[UNK]\" from being generated.\n",
        "    predicted_logits = predicted_logits + self.prediction_mask\n",
        "\n",
        "    # Sample the output logits to generate token IDs.\n",
        "    predicted_ids = tf.random.categorical(predicted_logits, num_samples=1)\n",
        "    predicted_ids = tf.squeeze(predicted_ids, axis=-1)\n",
        "\n",
        "    # Convert from token ids to characters\n",
        "    predicted_chars = self.chars_from_ids(predicted_ids)\n",
        "\n",
        "    # Return the characters and model state.\n",
        "    return predicted_chars, states\n"
      ],
      "metadata": {
        "id": "GsmaAc3fQNLT"
      },
      "execution_count": null,
      "outputs": []
    },
    {
      "cell_type": "code",
      "source": [
        "one_step_model=OneStep(model,chars_from_ids,ids_from_chars)"
      ],
      "metadata": {
        "id": "kdDWp6pXQUJN"
      },
      "execution_count": null,
      "outputs": []
    },
    {
      "cell_type": "code",
      "source": [
        "start = time.time()\n",
        "states = None\n",
        "next_char = tf.constant(['ROMEO:'])\n",
        "result = [next_char]\n",
        "\n",
        "for n in range(1000):\n",
        "  next_char, states = one_step_model.generate_one_step(next_char, states=states)\n",
        "  result.append(next_char)\n",
        "\n",
        "result = tf.strings.join(result)\n",
        "end = time.time()\n",
        "print(result[0].numpy().decode('utf-8'), '\\n\\n' + '_'*80)\n",
        "print('\\nRun time:', end - start)"
      ],
      "metadata": {
        "id": "Das2l3qsQXqx"
      },
      "execution_count": null,
      "outputs": []
    },
    {
      "cell_type": "markdown",
      "source": [
        "## Lab ASsignment"
      ],
      "metadata": {
        "id": "5UZ6FmqzSi9Z"
      }
    },
    {
      "cell_type": "code",
      "source": [
        "class CustomTraining(MyModel):\n",
        "  @tf.function\n",
        "  def train_step(self, inputs):\n",
        "      inputs, labels = inputs\n",
        "      with tf.GradientTape() as tape:\n",
        "          predictions = self(inputs, training=True)\n",
        "          loss = self.loss(labels, predictions)\n",
        "      grads = tape.gradient(loss, model.trainable_variables)\n",
        "      self.optimizer.apply_gradients(zip(grads, model.trainable_variables))\n",
        "\n",
        "      return {'loss': loss}"
      ],
      "metadata": {
        "id": "qe2wyeejSnG3"
      },
      "execution_count": null,
      "outputs": []
    },
    {
      "cell_type": "code",
      "source": [
        "model = CustomTraining(\n",
        "    vocab_size=len(ids_from_chars.get_vocabulary()),\n",
        "    embedding_dim=embedding_dim,\n",
        "    rnn_units=rnn_units)"
      ],
      "metadata": {
        "id": "9_0i3_IQTVKs"
      },
      "execution_count": null,
      "outputs": []
    },
    {
      "cell_type": "code",
      "source": [
        "model.compile(optimizer = tf.keras.optimizers.Adam(),\n",
        "              loss=tf.keras.losses.SparseCategoricalCrossentropy(from_logits=True))"
      ],
      "metadata": {
        "id": "F-sbmmitTYpC"
      },
      "execution_count": null,
      "outputs": []
    },
    {
      "cell_type": "code",
      "source": [
        "model.fit(dataset, epochs=1)\n"
      ],
      "metadata": {
        "id": "9IZqPLXnTaHB"
      },
      "execution_count": null,
      "outputs": []
    },
    {
      "cell_type": "code",
      "source": [
        "EPOCHS = 10\n",
        "\n",
        "mean = tf.metrics.Mean()\n",
        "\n",
        "for epoch in range(EPOCHS):\n",
        "    start = time.time()\n",
        "\n",
        "    mean.reset_states()\n",
        "    for (batch_n, (inp, target)) in enumerate(dataset):\n",
        "        logs = model.train_step([inp, target])\n",
        "        mean.update_state(logs['loss'])\n",
        "\n",
        "        if batch_n % 50 == 0:\n",
        "            template = f\"Epoch {epoch+1} Batch {batch_n} Loss {logs['loss']:.4f}\"\n",
        "            print(template)\n",
        "\n",
        "    # saving (checkpoint) the model every 5 epochs\n",
        "    if (epoch + 1) % 5 == 0:\n",
        "        model.save_weights(checkpoint_prefix.format(epoch=epoch))\n",
        "\n",
        "    print()\n",
        "    print(f'Epoch {epoch+1} Loss: {mean.result().numpy():.4f}')\n",
        "    print(f'Time taken for 1 epoch {time.time() - start:.2f} sec')\n",
        "    print(\"_\"*80)\n",
        "\n",
        "model.save_weights(checkpoint_prefix.format(epoch=epoch))\n"
      ],
      "metadata": {
        "id": "2Tdpzp5mTjIS"
      },
      "execution_count": null,
      "outputs": []
    }
  ]
}